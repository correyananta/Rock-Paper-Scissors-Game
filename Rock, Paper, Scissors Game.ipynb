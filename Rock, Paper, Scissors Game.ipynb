{
 "cells": [
  {
   "cell_type": "code",
   "execution_count": 6,
   "metadata": {},
   "outputs": [],
   "source": [
    "def validate(hand):\n",
    "    if hand < 0 or hand > 2:\n",
    "        return False\n",
    "    return True\n",
    "\n",
    "def print_hand(hand, name='Tamu'):\n",
    "    hands = ['Batu', 'Kertas', 'Gunting']\n",
    "    print(name + ' memilih: ' + hands[hand])\n",
    "\n",
    "def judge(player, computer):\n",
    "    if player == computer:\n",
    "        return 'Seri'\n",
    "    elif player == 0 and computer == 1:\n",
    "        return 'Kalah'\n",
    "    elif player == 1 and computer == 2:\n",
    "        return 'Kalah'\n",
    "    elif player == 2 and computer == 0:\n",
    "        return 'Kalah'\n",
    "    else:\n",
    "        return 'Menang'"
   ]
  },
  {
   "cell_type": "code",
   "execution_count": 7,
   "metadata": {},
   "outputs": [
    {
     "name": "stdout",
     "output_type": "stream",
     "text": [
      "Memulai permainan Batu Kertas Gunting!\n",
      "Masukkan nama Anda: sds\n",
      "Pilih tangan: (0: Batu, 1: Kertas, 2: Gunting)\n",
      "Masukkan nomor (0-2): 0\n",
      "sds memilih: Batu\n",
      "Komputer memilih: Batu\n",
      "Hasil: Seri\n"
     ]
    }
   ],
   "source": [
    "# import module random\n",
    "import random\n",
    "\n",
    "print('Memulai permainan Batu Kertas Gunting!')\n",
    "player_name = input('Masukkan nama Anda: ')\n",
    "\n",
    "print('Pilih tangan: (0: Batu, 1: Kertas, 2: Gunting)')\n",
    "player_hand = int(input('Masukkan nomor (0-2): '))\n",
    "\n",
    "if validate(player_hand):\n",
    "    # Tetapkan nomor acak antara 0 dan 2 ke computer_hand menggunakan randint\n",
    "    computer_hand = random.randint(0,2)\n",
    "    \n",
    "    print_hand(player_hand, player_name)\n",
    "    print_hand(computer_hand, 'Komputer')\n",
    "\n",
    "    result = judge(player_hand, computer_hand)\n",
    "    print('Hasil: ' + result)\n",
    "else:\n",
    "    print('Mohon masukkan nomor yang benar')"
   ]
  },
  {
   "cell_type": "code",
   "execution_count": null,
   "metadata": {},
   "outputs": [],
   "source": []
  }
 ],
 "metadata": {
  "kernelspec": {
   "display_name": "Python 3",
   "language": "python",
   "name": "python3"
  },
  "language_info": {
   "codemirror_mode": {
    "name": "ipython",
    "version": 3
   },
   "file_extension": ".py",
   "mimetype": "text/x-python",
   "name": "python",
   "nbconvert_exporter": "python",
   "pygments_lexer": "ipython3",
   "version": "3.7.6"
  }
 },
 "nbformat": 4,
 "nbformat_minor": 4
}
